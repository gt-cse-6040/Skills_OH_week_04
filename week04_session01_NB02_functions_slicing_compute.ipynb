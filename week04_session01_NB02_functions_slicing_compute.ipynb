{
 "cells": [
  {
   "cell_type": "markdown",
   "metadata": {},
   "source": [
    "_Main topics covered during today's session:_\n",
    "\n",
    "Previous NB:\n",
    "\n",
    "1. **NBA Data sample exercises**\n",
    "\n",
    "This NB:\n",
    "\n",
    "1. **Higher order functions**\n",
    "2. **Slicing**\n",
    "3. **2 Ways of computing a solution (plus a bonus method for take home)**"
   ]
  },
  {
   "cell_type": "markdown",
   "metadata": {
    "slideshow": {
     "slide_type": "slide"
    }
   },
   "source": [
    "# Higher-order functions and a \"higher-level perspective\" on computation #\n"
   ]
  },
  {
   "cell_type": "markdown",
   "metadata": {
    "slideshow": {
     "slide_type": "fragment"
    }
   },
   "source": [
    "- Functions (and lambda functions)\n",
    "- Properties of slices\n",
    "- Problem solving example: Longest consecutive subsequences -- from [Codewars](https://www.codewars.com/)"
   ]
  },
  {
   "cell_type": "markdown",
   "metadata": {
    "slideshow": {
     "slide_type": "slide"
    }
   },
   "source": [
    "## Higher-order functions  ##"
   ]
  },
  {
   "cell_type": "markdown",
   "metadata": {
    "slideshow": {
     "slide_type": "subslide"
    }
   },
   "source": [
    "Suppose you want to sort a list of numbers. Python's built-in `sorted` function can accomplish this task:"
   ]
  },
  {
   "cell_type": "code",
   "execution_count": null,
   "metadata": {
    "slideshow": {
     "slide_type": "-"
    }
   },
   "outputs": [],
   "source": [
    "unsorted_list = [1912, 1956, 1906]\n",
    "### INSERT: SORT ###\n",
    "sorted(unsorted_list)"
   ]
  },
  {
   "cell_type": "markdown",
   "metadata": {
    "slideshow": {
     "slide_type": "subslide"
    }
   },
   "source": [
    "Consider the following \"list of dictionaries.\""
   ]
  },
  {
   "cell_type": "code",
   "execution_count": null,
   "metadata": {
    "slideshow": {
     "slide_type": "-"
    }
   },
   "outputs": [],
   "source": [
    "data = [{'first': 'Guido', 'last': 'Van Rossum', 'year': 1956},\n",
    "        {'first': 'Grace', 'last': 'Hopper',     'year': 1906},\n",
    "        {'first': 'Alan',  'last': 'Turing',     'year': 1912}]\n",
    "print(data)"
   ]
  },
  {
   "cell_type": "markdown",
   "metadata": {
    "slideshow": {
     "slide_type": "subslide"
    }
   },
   "source": [
    "> _Aside:_ You can use the [pprint module](https://docs.python.org/3/library/pprint.html) to \"pretty print\" basic Python data structures."
   ]
  },
  {
   "cell_type": "code",
   "execution_count": null,
   "metadata": {
    "slideshow": {
     "slide_type": "-"
    }
   },
   "outputs": [],
   "source": [
    "from pprint import pprint\n",
    "pprint(data)"
   ]
  },
  {
   "cell_type": "markdown",
   "metadata": {
    "slideshow": {
     "slide_type": "subslide"
    }
   },
   "source": [
    "Suppose you want to sort this list by year. The following doesn't work; why not?"
   ]
  },
  {
   "cell_type": "code",
   "execution_count": null,
   "metadata": {
    "slideshow": {
     "slide_type": "-"
    }
   },
   "outputs": [],
   "source": [
    "pprint(data)\n",
    "# sorted(data)  # Fails: why?"
   ]
  },
  {
   "cell_type": "markdown",
   "metadata": {
    "slideshow": {
     "slide_type": "subslide"
    }
   },
   "source": [
    "Sorting `data` fails because there is no way to compare the values, which are dictionaries. However, `sorted` allows you to specify a _key_ function that returns a value to use for ordering.\n",
    "\n",
    "```python\n",
    "# for any `e` in `data`, `key(e)`\n",
    "# returns a \"sortable\" value:\n",
    "sorted(data, key=...)\n",
    "```\n",
    "\n",
    "Here a couple of good reference links for the **sorted** function:\n",
    "\n",
    "[Sorted W3S](https://www.w3schools.com/python/ref_func_sorted.asp)\n",
    "\n",
    "[Sorted GFG](https://www.geeksforgeeks.org/python-sorted-function/)\n"
   ]
  },
  {
   "cell_type": "code",
   "execution_count": null,
   "metadata": {
    "slideshow": {
     "slide_type": "fragment"
    }
   },
   "outputs": [],
   "source": [
    "### INSERT: SORT BY KEY ###\n",
    "def get_year(e): # Let `e` be one of the dictionary elements of the `data` list\n",
    "    return e['year']\n",
    "\n",
    "sorted(data, key=get_year)"
   ]
  },
  {
   "cell_type": "markdown",
   "metadata": {
    "slideshow": {
     "slide_type": "subslide"
    }
   },
   "source": [
    "Sorted is an example of a **higher-order function**, that is, a function that accepts another function as input or produces a new function as output. It's helpful because you can implement a sorting procedure once, and let a user customize it later on."
   ]
  },
  {
   "cell_type": "markdown",
   "metadata": {
    "slideshow": {
     "slide_type": "subslide"
    }
   },
   "source": [
    "**Lambda (or \"anonymous\") functions:** Useful for writing functions that you don't expect to reuse. Lambdas create a function value but do not assign it a name.\n",
    "\n",
    "We have already reviewed **lambda** functions in week 4, just showing here that they are also higher order functions.\n",
    "\n",
    "For example, suppose you want to sort `data` by first name. Rather than create a separate function for extracting the first name, you can implement this function \"inline\" using the `lambda` construct to create the function you need."
   ]
  },
  {
   "cell_type": "code",
   "execution_count": null,
   "metadata": {
    "slideshow": {
     "slide_type": "fragment"
    }
   },
   "outputs": [],
   "source": [
    "### INSERT: USE LAMBDA TO SORT BY FIRST NAME ###\n",
    "sorted(data, key=lambda e: e['first'])"
   ]
  },
  {
   "cell_type": "markdown",
   "metadata": {
    "slideshow": {
     "slide_type": "subslide"
    }
   },
   "source": [
    "> Lambdas are convenient but not necessarily easy for a future reader to understand. It's best left to situations where you the function you need is simple or you are sure you won't need to reuse that function in other situations."
   ]
  },
  {
   "cell_type": "markdown",
   "metadata": {
    "slideshow": {
     "slide_type": "slide"
    }
   },
   "source": [
    "## Facts about slicing ##\n",
    "\n",
    "Let's take a moment to review how slicing works.\n",
    "\n",
    "Here is a good reference, let's take a look at the syntax:\n",
    "\n",
    "[Slicing_GTG](https://www.geeksforgeeks.org/python-list-slicing/)"
   ]
  },
  {
   "cell_type": "markdown",
   "metadata": {},
   "source": [
    "As noted in the reference above:\n",
    "\n",
    "With this operator, one can specify where to start the slicing, where to end, and specify the step. List slicing returns a new list from the existing list.\n",
    "\n",
    "**Syntax:**\n",
    "\n",
    "Lst[ Initial : End : IndexJump ]\n",
    "\n",
    "If Lst is a list, then the above expression returns the portion of the list:\n",
    "\n",
    "1. from index Initial \n",
    "2. to index End, \n",
    "3. at a step size IndexJump.\n",
    "\n",
    "**All three elements are optional. If any of them are left blank:**\n",
    "\n",
    "1. Initial is blank:    Start at the first index of the list\n",
    "2. End is blank:        End at the last index of the list\n",
    "3. IndexJump is blank:  Proceed item by item in the list, do not skip over any"
   ]
  },
  {
   "cell_type": "markdown",
   "metadata": {
    "slideshow": {
     "slide_type": "subslide"
    }
   },
   "source": [
    "Here is one example: suppose you have the list `L` below and you want to extract the last three elements. Come up with two slice-based methods to do it."
   ]
  },
  {
   "cell_type": "code",
   "execution_count": null,
   "metadata": {
    "slideshow": {
     "slide_type": "-"
    }
   },
   "outputs": [],
   "source": [
    "L = [1, 2, 3, 4, 5]\n",
    "\n",
    "### INSERT: FRONT- AND BACK-RELATIVE SLICES ###\n",
    "print(\"Method 0:\", L[2:])\n",
    "print(\"Method 1:\", L[-3:])"
   ]
  },
  {
   "cell_type": "markdown",
   "metadata": {
    "slideshow": {
     "slide_type": "subslide"
    }
   },
   "source": [
    "When you reference a list using an invalid index, you get an error. Uncomment the following line to see an example:"
   ]
  },
  {
   "cell_type": "code",
   "execution_count": null,
   "metadata": {
    "slideshow": {
     "slide_type": "-"
    }
   },
   "outputs": [],
   "source": [
    "# L[len(L)] # Fails: Why?"
   ]
  },
  {
   "cell_type": "markdown",
   "metadata": {},
   "source": [
    "The above code fails because the first two elements reference the indexes of the items in the list.\n",
    "\n",
    "The above list has a length of 5, with the indexes numbered 0-4. \n",
    "\n",
    "The length of the list is 5, so the above code is saying to start at index 5, which does not exist."
   ]
  },
  {
   "cell_type": "markdown",
   "metadata": {
    "slideshow": {
     "slide_type": "subslide"
    }
   },
   "source": [
    "Slices work a little differently. Consider the following slice of a list:"
   ]
  },
  {
   "cell_type": "code",
   "execution_count": null,
   "metadata": {
    "slideshow": {
     "slide_type": "-"
    }
   },
   "outputs": [],
   "source": [
    "### INSERT: SLICE FROM `len(L)` ###\n",
    "L[len(L):] ## ??"
   ]
  },
  {
   "cell_type": "markdown",
   "metadata": {
    "slideshow": {
     "slide_type": "fragment"
    }
   },
   "source": [
    "Instead of it failing, it returns an empty list!\n",
    "\n",
    "You can think of it this way. First, Python interprets the slice; a range with invalid indices yields an empty range. When you then reference the list on an empty range, you get an empty list."
   ]
  },
  {
   "cell_type": "markdown",
   "metadata": {
    "slideshow": {
     "slide_type": "subslide"
    }
   },
   "source": [
    "Here is another example:"
   ]
  },
  {
   "cell_type": "code",
   "execution_count": null,
   "metadata": {
    "slideshow": {
     "slide_type": "-"
    }
   },
   "outputs": [],
   "source": [
    "L[len(L):1_000_000_000]"
   ]
  },
  {
   "cell_type": "markdown",
   "metadata": {
    "slideshow": {
     "slide_type": "slide"
    }
   },
   "source": [
    "## Exercise: Longest consecutive subsequence ##\n",
    "\n",
    "Given a string of characters:\n",
    "\n",
    "1. Write some code to find longest consecutive substring of repeated characters. \n",
    "2. It should then return the character and the number of times it occurred in that longest substring. \n",
    "3. If there are multiple substrings of repeated characters having the same length, then the function should return the first one that occurs."
   ]
  },
  {
   "cell_type": "code",
   "execution_count": null,
   "metadata": {
    "slideshow": {
     "slide_type": "subslide"
    }
   },
   "outputs": [],
   "source": [
    "# Examples:\n",
    "tests = {\n",
    "    'aaaabb': ('a', 4),\n",
    "    'bbbaaabaaaa': ('a', 4),\n",
    "    'bbbaaaabaaa': ('a', 4),\n",
    "    'bbbaabbaaa': ('b', 3), # tie: return first\n",
    "    'cbdeuuu900': ('u', 3),\n",
    "    'abbbbb': ('b', 5),\n",
    "    'aabb': ('a', 2),\n",
    "    'ba': ('b', 1),\n",
    "    '': ('', 0)\n",
    "}"
   ]
  },
  {
   "cell_type": "markdown",
   "metadata": {
    "slideshow": {
     "slide_type": "subslide"
    }
   },
   "source": [
    "Below, we'll implement a few variants. To check them, we'll use the following function.\n",
    "\n",
    "> It's a _higher-order function!_ It takes an implementation of LCS as input and checks it against the test cases shown above."
   ]
  },
  {
   "cell_type": "code",
   "execution_count": null,
   "metadata": {
    "slideshow": {
     "slide_type": "-"
    }
   },
   "outputs": [],
   "source": [
    "def check(implementation):\n",
    "    for input_string, true_answer in tests.items():\n",
    "        print(f'* Checking {repr(input_string)}: True solution is {repr(true_answer)}...')\n",
    "        your_answer = implementation(input_string)\n",
    "        assert your_answer == true_answer, f'Your code produced {repr(your_answer)} instead.'\n",
    "    print(\"\\n(Passed!)\")"
   ]
  },
  {
   "cell_type": "code",
   "execution_count": null,
   "metadata": {
    "slideshow": {
     "slide_type": "-"
    }
   },
   "outputs": [],
   "source": [
    "# this is the function definition\n",
    "def longest_consecutive_subsequence(s):\n",
    "    pass # return a \"letter, count\" pair"
   ]
  },
  {
   "cell_type": "markdown",
   "metadata": {
    "slideshow": {
     "slide_type": "slide"
    }
   },
   "source": [
    "### Baseline method: One-at-a-time ###\n",
    "\n",
    "Here is a version you might naturally implement. It works as follows:\n",
    "\n",
    "1. Let `best` and `best_count` hold the letter with the largest count seen so far.\n",
    "2. Visit each character `c` of the input string, `s` from left to right.\n",
    "3. Determine whether `c` is the same as the previous letter, `previous`, which has occurred `previous_count`.\n",
    "4. If `c` is the same as `previous`, increment `previous_count`.\n",
    "5. Otherwise, see if we can update `best` with `previous`."
   ]
  },
  {
   "cell_type": "code",
   "execution_count": null,
   "metadata": {
    "slideshow": {
     "slide_type": "subslide"
    }
   },
   "outputs": [],
   "source": [
    "def longest_consecutive_subsequence_0a(s):\n",
    "    \n",
    "    best, best_count = '', 0\n",
    "    previous, previous_count = '', 0\n",
    "    \n",
    "    for c in s:\n",
    "        if c == previous:\n",
    "            previous_count += 1\n",
    "        else:\n",
    "            if previous_count > best_count:\n",
    "                best, best_count = previous, previous_count\n",
    "            previous, previous_count = c, 1\n",
    "    \n",
    "    if previous_count > best_count:\n",
    "        best, best_count = previous, previous_count\n",
    "    \n",
    "    return best, best_count"
   ]
  },
  {
   "cell_type": "markdown",
   "metadata": {
    "slideshow": {
     "slide_type": "subslide"
    }
   },
   "source": [
    "First, let's check this solution:"
   ]
  },
  {
   "cell_type": "code",
   "execution_count": null,
   "metadata": {
    "slideshow": {
     "slide_type": "-"
    }
   },
   "outputs": [],
   "source": [
    "check(longest_consecutive_subsequence_0a)"
   ]
  },
  {
   "cell_type": "markdown",
   "metadata": {
    "slideshow": {
     "slide_type": "subslide"
    }
   },
   "source": [
    "The solution shown above has some repetition: the code to update `best` and `best_count` when a new and longer subsequence is discovered appears in two places (lines 8-9 and again in lines 11-12). We'll address that momentarily."
   ]
  },
  {
   "cell_type": "markdown",
   "metadata": {
    "slideshow": {
     "slide_type": "subslide"
    }
   },
   "source": [
    "Here is a variation on the above with a few revisions for clarity:\n",
    "\n",
    "1. _Refactor_ the redundant code into a separate function, `update`. Doing so improves reading, debugging, and maintaining the function. (If you wanted to solve the _shortest_ consecutive subsequence problem instead, you need only change `update`!)\n",
    "2. Maintain substrings and use `len` to get the length when needed.\n",
    "3. Use slices to handle empty strings more robustly."
   ]
  },
  {
   "cell_type": "code",
   "execution_count": null,
   "metadata": {
    "slideshow": {
     "slide_type": "subslide"
    }
   },
   "outputs": [],
   "source": [
    "def longest_consecutive_subsequence_0b(s):\n",
    "    \n",
    "    def update(best, previous):\n",
    "        return max(best, previous, key=len)\n",
    "    \n",
    "    previous = ''\n",
    "    best = ''\n",
    "    for c in s:\n",
    "        if c != previous[-1:]:\n",
    "            best = update(best, previous)\n",
    "            previous = ''\n",
    "        previous += c\n",
    "   \n",
    "    best = update(best, previous)\n",
    "    \n",
    "    return best[-1:], len(best)\n",
    "\n",
    "check(longest_consecutive_subsequence_0b)"
   ]
  },
  {
   "cell_type": "markdown",
   "metadata": {
    "slideshow": {
     "slide_type": "slide"
    }
   },
   "source": [
    "### Method 1: Data parallelism ###\n",
    "\n",
    "Instead of thinking about building the solution one character at a time, let's try to think about the input \"as a whole.\" What are you really looking for?\n",
    "\n",
    "In the case of this problem, the input string is really a collection of substrings having the same letter. \n",
    "\n",
    "You can think of finding the solution in two parts: \n",
    "\n",
    "1. finding the substrings, and then \n",
    "2. finding the largest one."
   ]
  },
  {
   "cell_type": "markdown",
   "metadata": {
    "slideshow": {
     "slide_type": "subslide"
    }
   },
   "source": [
    "For example, consider the input string again:"
   ]
  },
  {
   "cell_type": "code",
   "execution_count": null,
   "metadata": {
    "slideshow": {
     "slide_type": "-"
    }
   },
   "outputs": [],
   "source": [
    "s = 'bbbaaabaaaa'"
   ]
  },
  {
   "cell_type": "markdown",
   "metadata": {
    "slideshow": {
     "slide_type": "fragment"
    }
   },
   "source": [
    "The pieces correspond to these slices of `s`:"
   ]
  },
  {
   "cell_type": "code",
   "execution_count": null,
   "metadata": {
    "slideshow": {
     "slide_type": "-"
    }
   },
   "outputs": [],
   "source": [
    "s[0:3], s[3:6], s[6:7], s[7:11]"
   ]
  },
  {
   "cell_type": "markdown",
   "metadata": {
    "slideshow": {
     "slide_type": "fragment"
    }
   },
   "source": [
    "To reconstruct these substrings, all you need are the locations of _changes_, which occur at positions `[0, 3, 6, 7, 11]`."
   ]
  },
  {
   "cell_type": "markdown",
   "metadata": {
    "slideshow": {
     "slide_type": "subslide"
    }
   },
   "source": [
    "To find these, we need to look at consecutive pairs of letters in `s` and see where they differ. Let's write some code to build up this information in two parts."
   ]
  },
  {
   "cell_type": "code",
   "execution_count": null,
   "metadata": {
    "slideshow": {
     "slide_type": "-"
    }
   },
   "outputs": [],
   "source": [
    "def zip_neighbors(s):\n",
    "    ### INSERT CODE ###\n",
    "    return zip(s[:-1], s[1:])\n",
    "\n",
    "print(\"s =\", s)\n",
    "list(zip_neighbors(s))"
   ]
  },
  {
   "cell_type": "markdown",
   "metadata": {
    "slideshow": {
     "slide_type": "subslide"
    }
   },
   "source": [
    "To associate these neighbor-pairs with positions, apply `enumerate`:"
   ]
  },
  {
   "cell_type": "code",
   "execution_count": null,
   "metadata": {
    "slideshow": {
     "slide_type": "-"
    }
   },
   "outputs": [],
   "source": [
    "print(\"s =\", s)\n",
    "\n",
    "### INSERT: APPLY ENUMERATE ###\n",
    "list(enumerate(zip_neighbors(s)))"
   ]
  },
  {
   "cell_type": "markdown",
   "metadata": {
    "slideshow": {
     "slide_type": "subslide"
    }
   },
   "source": [
    "These are the building blocks for a \"change detector:\""
   ]
  },
  {
   "cell_type": "code",
   "execution_count": null,
   "metadata": {
    "slideshow": {
     "slide_type": "-"
    }
   },
   "outputs": [],
   "source": [
    "def detect_changes(s):\n",
    "    ### INSERT SOLUTION ###\n",
    "    interior_changes = [p+1 for p, (x, y) in enumerate(zip_neighbors(s)) if x != y]\n",
    "    return [0] + interior_changes + [len(s)]\n",
    "\n",
    "detect_changes(s)"
   ]
  },
  {
   "cell_type": "markdown",
   "metadata": {
    "slideshow": {
     "slide_type": "subslide"
    }
   },
   "source": [
    "> _Aside:_ The implementation of `detect_changes` produces the following result on an empty input:"
   ]
  },
  {
   "cell_type": "code",
   "execution_count": null,
   "metadata": {
    "slideshow": {
     "slide_type": "-"
    }
   },
   "outputs": [],
   "source": [
    "detect_changes('')"
   ]
  },
  {
   "cell_type": "markdown",
   "metadata": {
    "slideshow": {
     "slide_type": "subslide"
    }
   },
   "source": [
    "From the changes, the pieces follow:"
   ]
  },
  {
   "cell_type": "code",
   "execution_count": null,
   "metadata": {
    "slideshow": {
     "slide_type": "-"
    }
   },
   "outputs": [],
   "source": [
    "def get_pieces(s, changes):\n",
    "    ### INSERT SOLUTION ###\n",
    "    return [s[i:j] for i, j in zip_neighbors(changes)]\n",
    "\n",
    "get_pieces(s, detect_changes(s))"
   ]
  },
  {
   "cell_type": "markdown",
   "metadata": {
    "slideshow": {
     "slide_type": "subslide"
    }
   },
   "source": [
    "The largest piece is then easy to find:"
   ]
  },
  {
   "cell_type": "code",
   "execution_count": null,
   "metadata": {
    "slideshow": {
     "slide_type": "-"
    }
   },
   "outputs": [],
   "source": [
    "### FIND LARGEST PIECE VIA KEYED `max` ###\n",
    "max(get_pieces(s, detect_changes(s)), key=len)"
   ]
  },
  {
   "cell_type": "markdown",
   "metadata": {
    "slideshow": {
     "slide_type": "subslide"
    }
   },
   "source": [
    "Putting it all together:"
   ]
  },
  {
   "cell_type": "code",
   "execution_count": null,
   "metadata": {
    "slideshow": {
     "slide_type": "-"
    }
   },
   "outputs": [],
   "source": [
    "def longest_consecutive_subsequence_1(s):\n",
    "    changes = detect_changes(s)\n",
    "    pieces = get_pieces(s, changes)\n",
    "    largest_piece = max(pieces, key=len)\n",
    "    return largest_piece[:1], len(largest_piece)\n",
    "\n",
    "longest_consecutive_subsequence_1(s)"
   ]
  },
  {
   "cell_type": "code",
   "execution_count": null,
   "metadata": {
    "slideshow": {
     "slide_type": "subslide"
    }
   },
   "outputs": [],
   "source": [
    "check(longest_consecutive_subsequence_1)"
   ]
  },
  {
   "cell_type": "markdown",
   "metadata": {},
   "source": [
    "### Below is an even more advanced method of solving the problem, which we will leave to the students to discover."
   ]
  },
  {
   "cell_type": "markdown",
   "metadata": {
    "slideshow": {
     "slide_type": "slide"
    }
   },
   "source": [
    "### Method 2: Data parallel \"preconditioning\" approach ###\n",
    "\n",
    "Transform the input into something, e.g., preprocess or \"precondition\" it so that the problem becomes easier to solve."
   ]
  },
  {
   "cell_type": "code",
   "execution_count": null,
   "metadata": {
    "slideshow": {
     "slide_type": "fragment"
    }
   },
   "outputs": [],
   "source": [
    "### INSERT: DEMO `s` and `t` ###\n",
    "s = 'bbbaaabaaaa'\n",
    "t = 'bbb|aaa|b|aaaa'\n",
    "t.split('|')"
   ]
  },
  {
   "cell_type": "code",
   "execution_count": null,
   "metadata": {
    "slideshow": {
     "slide_type": "subslide"
    }
   },
   "outputs": [],
   "source": [
    "def insert_cuts(s, separator='|'):\n",
    "    assert separator not in s     # Q for you: \"but y tho\"\n",
    "    \n",
    "    def conditional_inject(x, y):\n",
    "        return x + (separator if x != y else '')\n",
    "    \n",
    "    cut_pieces = [conditional_inject(x, y) for x, y in zip_neighbors(s)]  #uses zip_neighbors function from above\n",
    "    cut_pieces.append(s[-1:])\n",
    "    \n",
    "    return ''.join(cut_pieces)\n",
    "\n",
    "def longest_consecutive_subsequence_3(s):\n",
    "    t = insert_cuts(s)\n",
    "    substrings = t.split('|')\n",
    "    largest_substring = max(substrings, key=len)\n",
    "    return largest_substring[-1:], len(largest_substring)    \n",
    "\n",
    "check(longest_consecutive_subsequence_3)"
   ]
  },
  {
   "cell_type": "markdown",
   "metadata": {
    "slideshow": {
     "slide_type": "slide"
    }
   },
   "source": [
    "## Summary ##\n",
    "\n",
    "Here is a quick review of the main ideas in this note:\n",
    "\n",
    "- **Functions** encapsulate ... functionality!\n",
    "- **Higher-order functions** enable customization, e.g., `sorted` and `max`.\n",
    "- **Slices** are well-worth mastering. Empty ranges produced empty lists, which we exploited to write more robust code for corner cases.\n",
    "- **Data parallelism** is an \"all-at-once\" mindset, which can be more efficient, easier to read, and easier to parallelize."
   ]
  },
  {
   "cell_type": "code",
   "execution_count": null,
   "metadata": {},
   "outputs": [],
   "source": []
  }
 ],
 "metadata": {
  "celltoolbar": "Slideshow",
  "kernelspec": {
   "display_name": "Python 3 (ipykernel)",
   "language": "python",
   "name": "python3"
  },
  "language_info": {
   "codemirror_mode": {
    "name": "ipython",
    "version": 3
   },
   "file_extension": ".py",
   "mimetype": "text/x-python",
   "name": "python",
   "nbconvert_exporter": "python",
   "pygments_lexer": "ipython3",
   "version": "3.9.13"
  },
  "toc": {
   "base_numbering": 1,
   "nav_menu": {},
   "number_sections": true,
   "sideBar": true,
   "skip_h1_title": false,
   "title_cell": "Table of Contents",
   "title_sidebar": "Contents",
   "toc_cell": false,
   "toc_position": {},
   "toc_section_display": true,
   "toc_window_display": false
  }
 },
 "nbformat": 4,
 "nbformat_minor": 4
}
